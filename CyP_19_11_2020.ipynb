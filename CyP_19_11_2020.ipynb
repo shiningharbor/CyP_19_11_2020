{
  "nbformat": 4,
  "nbformat_minor": 0,
  "metadata": {
    "colab": {
      "name": "CyP_19_11_2020.ipynb",
      "provenance": [],
      "authorship_tag": "ABX9TyPP+DTVYI1HVjhPTJMlz+F8",
      "include_colab_link": true
    },
    "kernelspec": {
      "name": "python3",
      "display_name": "Python 3"
    }
  },
  "cells": [
    {
      "cell_type": "markdown",
      "metadata": {
        "id": "view-in-github",
        "colab_type": "text"
      },
      "source": [
        "<a href=\"https://colab.research.google.com/github/shiningharbor/CyP_19_11_2020/blob/main/CyP_19_11_2020.ipynb\" target=\"_parent\"><img src=\"https://colab.research.google.com/assets/colab-badge.svg\" alt=\"Open In Colab\"/></a>"
      ]
    },
    {
      "cell_type": "code",
      "metadata": {
        "id": "ibuVhLPykY6d"
      },
      "source": [
        "I = 0\n",
        "I = I + 1\n",
        "I = I + 1\n",
        "pint(f\"I=\")}\n",
        "\n",
        "J = 5 ** 2 / 3"
      ],
      "execution_count": null,
      "outputs": []
    },
    {
      "cell_type": "code",
      "metadata": {
        "colab": {
          "base_uri": "https://localhost:8080/"
        },
        "id": "fOQakLlmm_b2",
        "outputId": "f0f1900e-9be8-4016-f20c-f03c1331d199"
      },
      "source": [
        "A=0\n",
        "B=0\n",
        "C=0\n",
        "D=0\n",
        "\n",
        "A= int(input(\"Dame un valor entero \"))\n",
        "B= int(input(\"Dame un valor entero \"))\n",
        "C= int(input(\"Dame un valor entero \"))\n",
        "D= int(input(\"Dame un valor entero \"))\n",
        "\n",
        "print(D)\n",
        "print(C)\n",
        "print(B)\n",
        "print(A)"
      ],
      "execution_count": 2,
      "outputs": [
        {
          "output_type": "stream",
          "text": [
            "Dame un valor entero5\n",
            "Dame un valor entero3\n",
            "Dame un valor entero2\n",
            "Dame un valor entero1\n",
            "1\n",
            "2\n",
            "3\n",
            "5\n"
          ],
          "name": "stdout"
        }
      ]
    },
    {
      "cell_type": "code",
      "metadata": {
        "colab": {
          "base_uri": "https://localhost:8080/"
        },
        "id": "cz3oh2cBpnGv",
        "outputId": "25819d42-87c3-4177-cd51-9b018c1d4f35"
      },
      "source": [
        "#ejemplo.7\n",
        "A=0\n",
        "B=0\n",
        "RES=0\n",
        "\n",
        "A= int(input(\"Dame un valor entero \"))\n",
        "B= int(input(\"Dame un valor entero \"))\n",
        "RES = (A+B)** 2/ 3\n",
        "print(RES)"
      ],
      "execution_count": 5,
      "outputs": [
        {
          "output_type": "stream",
          "text": [
            "Dame un valor entero 6\n",
            "Dame un valor entero 3\n",
            "27.0\n"
          ],
          "name": "stdout"
        }
      ]
    },
    {
      "cell_type": "code",
      "metadata": {
        "colab": {
          "base_uri": "https://localhost:8080/"
        },
        "id": "ximXlMKeuTeC",
        "outputId": "b87d4683-096f-469f-bea6-747fcccae357"
      },
      "source": [
        "MAT=5\n",
        "CAL1=0\n",
        "CAL2=0\n",
        "CAL3=0\n",
        "CAL4=0\n",
        "CAL5=0\n",
        "Prom=0\n",
        "\n",
        "CAL1= float(input(\"Dame tu calificació \"))\n",
        "CAL2= float(input(\"Dame tu calificació \"))\n",
        "CAL3= float(input(\"Dame tu calificació \"))\n",
        "CAL4= float(input(\"Dame tu calificació \"))\n",
        "CAL5= float(input(\"Dame tu calificació \"))\n",
        "Prom= (CAL1+CAL2 + CAL3 + CAL4 + CAL5) / MAT\n",
        "print(Prom)"
      ],
      "execution_count": 8,
      "outputs": [
        {
          "output_type": "stream",
          "text": [
            "Dame tu calificació 9.5\n",
            "Dame tu calificació 2.4\n",
            "Dame tu calificació 7.8\n",
            "Dame tu calificació 10\n",
            "Dame tu calificació 8.4\n",
            "7.62\n"
          ],
          "name": "stdout"
        }
      ]
    },
    {
      "cell_type": "code",
      "metadata": {
        "colab": {
          "base_uri": "https://localhost:8080/"
        },
        "id": "1JlPMhyqycAW",
        "outputId": "0d4cc525-6388-42d8-f9fd-a3f7caaec561"
      },
      "source": [
        "NUM=0\n",
        "CUA=0\n",
        "CUB=0\n",
        "\n",
        "NUM= float(input(\"Dame un numero \"))\n",
        "CUA= NUM * NUM\n",
        "CUB= NUM ** 3\n",
        "\n",
        "print(\"El cuadrado de tu numero es: \", CUA)\n",
        "print(\"El cuadrado de tu numero es: \", CUB)\n"
      ],
      "execution_count": 10,
      "outputs": [
        {
          "output_type": "stream",
          "text": [
            "Dame un numero 2\n",
            "El cuadrado de tu numero es:  4.0\n",
            "El cuadrado de tu numero es:  8.0\n"
          ],
          "name": "stdout"
        }
      ]
    },
    {
      "cell_type": "code",
      "metadata": {
        "colab": {
          "base_uri": "https://localhost:8080/"
        },
        "id": "DO0YjZ1z2ALq",
        "outputId": "e3881868-cf59-45c9-bacd-cfb44f99911e"
      },
      "source": [
        "#ejemplo 1.10\n",
        "base=0\n",
        "altura=0\n",
        "area=0\n",
        "per=0\n",
        "\n",
        "base=float(input(\"Ingresa la base \"))\n",
        "altura=float(input(\"Ingresa la altura \"))\n",
        "area=(base*altura)\n",
        "per=(2*base)+(2*altura)\n",
        "\n",
        "print(f\"el área es {area}\")\n",
        "print(f\"el perímetro es {per}\")"
      ],
      "execution_count": 11,
      "outputs": [
        {
          "output_type": "stream",
          "text": [
            "Ingresa la base5\n",
            "Ingresa la altura5\n",
            "el área es 25.0\n",
            "el perímetro es 20.0\n"
          ],
          "name": "stdout"
        }
      ]
    }
  ]
}